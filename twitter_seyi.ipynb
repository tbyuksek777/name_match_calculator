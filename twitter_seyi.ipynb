{
 "cells": [
  {
   "cell_type": "code",
   "execution_count": 1,
   "id": "b9582484",
   "metadata": {},
   "outputs": [],
   "source": [
    "import ipywidgets as widgets "
   ]
  },
  {
   "cell_type": "code",
   "execution_count": 46,
   "id": "50411a9c",
   "metadata": {},
   "outputs": [],
   "source": [
    "def uyum_hesapla(name1, name2): \n",
    "  name1 = str.lower(name1)\n",
    "  name2 = str.lower(name2)\n",
    "  init = \"\"\n",
    "  sec = \"\"\n",
    "  denom = \"\"\n",
    "  if len(name1) > len(name2):\n",
    "    init = name1\n",
    "    sec = name2\n",
    "  if len(name1) < len(name2):\n",
    "    init = name2 \n",
    "    sec = name1 \n",
    "  if len(name1) == len(name2):\n",
    "    init = name1\n",
    "    sec = name2 \n",
    "  list_init = list(init)\n",
    "  list_sec = list(sec)\n",
    "  for i in list_init: \n",
    "    if i not in list_sec:\n",
    "      denom += \"1\"\n",
    "    elif i in list_sec:\n",
    "      denom += \"2\"\n",
    "      list_sec.remove(i)\n",
    "  for j in list_sec:\n",
    "    denom += \"1\"\n",
    "\n",
    "    return(denom)\n",
    "  \n",
    "ad1 = \"\"\n",
    "ad2 = \"\"\n",
    "\n",
    "uyum_hesapla(ad1, ad2)"
   ]
  },
  {
   "cell_type": "code",
   "execution_count": 42,
   "id": "432e145f",
   "metadata": {},
   "outputs": [
    {
     "name": "stdout",
     "output_type": "stream",
     "text": [
      "3321\n"
     ]
    }
   ],
   "source": [
    "def sum_symmetric_pairs(string):\n",
    "    n = len(string)\n",
    "    sudo = \"\"\n",
    "\n",
    "    if n>=4:\n",
    "\n",
    "      for i in range(n//2):\n",
    "          a, b = string[i],string[n-i-1]\n",
    "          sudo += str(int(a) + int(b))\n",
    "      if n//2 != 0:\n",
    "        sudo = sudo[:n//2] + string[n//2 + 1] + sudo[n//2: ]\n",
    "      \n",
    "    else:\n",
    "        if n == 3:\n",
    "          sudo = str(int(string[0]) + int(string[-1])) + str(string[1])\n",
    "\n",
    "        else:\n",
    "          sudo = string \n",
    "\n",
    "    \n",
    "    return(sudo)\n",
    "\n",
    "print(sum_symmetric_pairs(uyum_hesapla(ad1, ad2)))  # Output: (1+1)"
   ]
  },
  {
   "cell_type": "code",
   "execution_count": 43,
   "id": "7aa033cb",
   "metadata": {},
   "outputs": [
    {
     "name": "stdout",
     "output_type": "stream",
     "text": [
      "55\n"
     ]
    }
   ],
   "source": [
    "def final(s):\n",
    "  while len(s) > 2 :\n",
    "    s = (sum_symmetric_pairs(s))\n",
    "  print(sum_symmetric_pairs(s))\n",
    "\n",
    "final(sum_symmetric_pairs(uyum_hesapla(ad1, ad2)))\n",
    "\n"
   ]
  },
  {
   "cell_type": "code",
   "execution_count": 45,
   "id": "6ce28fdb",
   "metadata": {},
   "outputs": [
    {
     "data": {
      "application/vnd.jupyter.widget-view+json": {
       "model_id": "7bd26b65a4c446238d9a90f6fbb63e97",
       "version_major": 2,
       "version_minor": 0
      },
      "text/plain": [
       "Text(value='İsim 1')"
      ]
     },
     "metadata": {},
     "output_type": "display_data"
    },
    {
     "data": {
      "application/vnd.jupyter.widget-view+json": {
       "model_id": "e784c3b6199944db8c7a7754a05c971e",
       "version_major": 2,
       "version_minor": 0
      },
      "text/plain": [
       "Text(value='İsim 2')"
      ]
     },
     "metadata": {},
     "output_type": "display_data"
    },
    {
     "data": {
      "application/vnd.jupyter.widget-view+json": {
       "model_id": "bf8c5c76f6ce4fbb84da95241aefca25",
       "version_major": 2,
       "version_minor": 0
      },
      "text/plain": [
       "Button(description='Uyum Hesapla!', style=ButtonStyle())"
      ]
     },
     "metadata": {},
     "output_type": "display_data"
    }
   ],
   "source": [
    "import ipywidgets as widgets\n",
    "from IPython.display import display\n",
    "\n",
    "text1 = widgets.Text(value='İsim 1')\n",
    "text2 = widgets.Text(value='İsim 2')\n",
    "\n",
    "button = widgets.Button(description='Uyum Hesapla!')\n",
    "\n",
    "def my_function(text1, text2):\n",
    "    return final(sum_symmetric_pairs(uyum_hesapla(text1, text2)))\n",
    "\n",
    "button.on_click(lambda b: my_function(text1.value, text2.value))\n",
    "\n",
    "display(text1, text2, button)"
   ]
  },
  {
   "cell_type": "code",
   "execution_count": null,
   "id": "a0df891d",
   "metadata": {},
   "outputs": [],
   "source": []
  }
 ],
 "metadata": {
  "kernelspec": {
   "display_name": "Python 3 (ipykernel)",
   "language": "python",
   "name": "python3"
  },
  "language_info": {
   "codemirror_mode": {
    "name": "ipython",
    "version": 3
   },
   "file_extension": ".py",
   "mimetype": "text/x-python",
   "name": "python",
   "nbconvert_exporter": "python",
   "pygments_lexer": "ipython3",
   "version": "3.9.7"
  }
 },
 "nbformat": 4,
 "nbformat_minor": 5
}
